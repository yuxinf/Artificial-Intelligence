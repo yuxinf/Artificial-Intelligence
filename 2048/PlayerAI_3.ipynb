{
 "cells": [
  {
   "cell_type": "code",
   "execution_count": 13,
   "metadata": {},
   "outputs": [],
   "source": [
    "import math\n",
    "import sys\n",
    "import time\n",
    "from itertools import product\n",
    "from BaseAI_3 import BaseAI\n",
    "\n",
    "Depth = 4"
   ]
  },
  {
   "cell_type": "code",
   "execution_count": 19,
   "metadata": {
    "scrolled": false
   },
   "outputs": [],
   "source": [
    "class PlayerAI(BaseAI):\n",
    "           \n",
    "    def getMove(self, grid):\n",
    "        #moves = grid.getAvailableMoves()\n",
    "        #return moves[randint(0, len(moves) - 1)] if moves else None\n",
    "        \n",
    "        global start_time, delta_time\n",
    "        start_time = time.clock()\n",
    "        \n",
    "        for move in grid.getAvailableMoves():\n",
    "            temp_grid = grid.clone()\n",
    "            #temp_grid.move(move)\n",
    "            #(child, _) = maximize(state(move=move, grid=temp_grid, depth=Depth-1), -math.inf, math.inf, Depth)\n",
    "            (child, _) = maximize(state(move=move, grid=temp_grid, depth=Depth), -math.inf, math.inf, Depth)\n",
    "        \n",
    "        return child.move"
   ]
  },
  {
   "cell_type": "code",
   "execution_count": 15,
   "metadata": {},
   "outputs": [],
   "source": [
    "def minimize(state, alpha, beta, maxdepth):\n",
    "        \n",
    "    if state.depth <= 0:\n",
    "        return (None, evaluate(state.grid))\n",
    "    \n",
    "    children = state.minchildren()\n",
    "    if len(children) == 0:\n",
    "        return (None, evaluate(state.grid))\n",
    "    \n",
    "    global start_time\n",
    "    delta_time = time.clock() - start_time\n",
    "    if delta_time > 0.2:\n",
    "        return (None, evaluate(state.grid))\n",
    "        \n",
    "    (minChild, minUtility) = (None, math.inf)\n",
    "    \n",
    "    for child in children:\n",
    "        (_, utility) = maximize(child, alpha, beta, maxdepth)\n",
    "        \n",
    "        if utility < minUtility:\n",
    "            (minChild, minUtility) = (child, utility)\n",
    "            \n",
    "        if minUtility <= alpha:\n",
    "            break\n",
    "            \n",
    "        if minUtility < beta:\n",
    "            beta = minUtility\n",
    "            \n",
    "    return(minChild, minUtility)\n",
    "            \n",
    "    \n",
    "def maximize(state, alpha, beta, maxdepth):\n",
    "    \n",
    "    if state.depth <= 0:\n",
    "        return (None, evaluate(state.grid))\n",
    "    \n",
    "    children = state.maxchildren()\n",
    "    if len(children) == 0:\n",
    "        return (None, evaluate(state.grid))\n",
    "    \n",
    "    global start_time\n",
    "    delta_time = time.clock() - start_time\n",
    "    if delta_time > 0.2:\n",
    "        return (None, evaluate(state.grid))\n",
    "        \n",
    "    (maxChild, maxUtility) = (None, -math.inf)\n",
    "    \n",
    "    for child in children:\n",
    "        (_, utility) = minimize(child, alpha, beta, maxdepth)\n",
    "        \n",
    "        if utility > maxUtility:\n",
    "            (maxChild,maxUtility) = (child, utility)\n",
    "            \n",
    "        if maxUtility >= beta:\n",
    "            break\n",
    "            \n",
    "        if maxUtility > alpha:\n",
    "            alpha = maxUtility\n",
    "            \n",
    "    return(maxChild, maxUtility)"
   ]
  },
  {
   "cell_type": "code",
   "execution_count": 20,
   "metadata": {},
   "outputs": [],
   "source": [
    "def evaluate(grid):\n",
    "    # returns number of blank tiles\n",
    "    weight = 1\n",
    "    return (len(grid.getAvailableCells())*weight)"
   ]
  },
  {
   "cell_type": "code",
   "execution_count": 17,
   "metadata": {},
   "outputs": [],
   "source": [
    "class state:\n",
    "    def __init__(self, move=None, grid=None, depth=0):\n",
    "        self.move = move\n",
    "        if grid is None:\n",
    "            raise ValueError(\"Grid cannot be None\")\n",
    "        self.grid = grid\n",
    "        self.depth = depth\n",
    "        \n",
    "    def maxchildren(self):\n",
    "        children = []\n",
    "        for move in self.grid.getAvailableMoves():\n",
    "            grid = self.grid.clone()\n",
    "            grid.move(move)\n",
    "            children.append(state(move=move, grid=grid, depth=self.depth-1))\n",
    "        return children\n",
    "        \n",
    "    def minchildren(self):\n",
    "        children = []\n",
    "        for cell in self.grid.getAvailableCells():\n",
    "            grid = self.grid.clone()\n",
    "            grid.setCellValue(cell,2)\n",
    "            children.append(state(move=None,grid=grid,depth=self.depth-1))\n",
    "            #grid = self.grid.clone()\n",
    "            grid.setCellValue(cell,4)\n",
    "            children.append(state(move=None,grid=grid,depth=self.depth-1))\n",
    "        return children\n",
    "        "
   ]
  },
  {
   "cell_type": "code",
   "execution_count": null,
   "metadata": {},
   "outputs": [],
   "source": []
  }
 ],
 "metadata": {
  "kernelspec": {
   "display_name": "Python 3",
   "language": "python",
   "name": "python3"
  },
  "language_info": {
   "codemirror_mode": {
    "name": "ipython",
    "version": 3
   },
   "file_extension": ".py",
   "mimetype": "text/x-python",
   "name": "python",
   "nbconvert_exporter": "python",
   "pygments_lexer": "ipython3",
   "version": "3.6.5"
  }
 },
 "nbformat": 4,
 "nbformat_minor": 2
}
